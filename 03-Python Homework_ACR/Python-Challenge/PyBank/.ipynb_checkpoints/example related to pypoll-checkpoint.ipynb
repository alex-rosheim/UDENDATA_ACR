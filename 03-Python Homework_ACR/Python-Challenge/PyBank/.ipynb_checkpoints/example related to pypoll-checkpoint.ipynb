{
 "cells": [
  {
   "cell_type": "code",
   "execution_count": 1,
   "metadata": {},
   "outputs": [],
   "source": [
    "#example at beginning of 12/11 class PANDAS DAY TWO"
   ]
  },
  {
   "cell_type": "code",
   "execution_count": 2,
   "metadata": {},
   "outputs": [
    {
     "ename": "ImportError",
     "evalue": "cannot import name 'counter' from 'collections' (/anaconda3/lib/python3.7/collections/__init__.py)",
     "output_type": "error",
     "traceback": [
      "\u001b[0;31m---------------------------------------------------------------------------\u001b[0m",
      "\u001b[0;31mImportError\u001b[0m                               Traceback (most recent call last)",
      "\u001b[0;32m<ipython-input-2-cc76a7709135>\u001b[0m in \u001b[0;36m<module>\u001b[0;34m()\u001b[0m\n\u001b[0;32m----> 1\u001b[0;31m \u001b[0;32mfrom\u001b[0m \u001b[0mcollections\u001b[0m \u001b[0;32mimport\u001b[0m \u001b[0mcounter\u001b[0m\u001b[0;34m\u001b[0m\u001b[0m\n\u001b[0m\u001b[1;32m      2\u001b[0m \u001b[0;34m\u001b[0m\u001b[0m\n\u001b[1;32m      3\u001b[0m \u001b[0;32mfor\u001b[0m \u001b[0mrow\u001b[0m \u001b[0;32min\u001b[0m \u001b[0mreader\u001b[0m\u001b[0;34m:\u001b[0m\u001b[0;34m\u001b[0m\u001b[0m\n\u001b[1;32m      4\u001b[0m     \u001b[0mparts_list\u001b[0m\u001b[0;34m.\u001b[0m\u001b[0mappend\u001b[0m\u001b[0;34m(\u001b[0m\u001b[0mrow\u001b[0m\u001b[0;34m[\u001b[0m\u001b[0;36m0\u001b[0m\u001b[0;34m]\u001b[0m\u001b[0;34m)\u001b[0m\u001b[0;34m\u001b[0m\u001b[0m\n",
      "\u001b[0;31mImportError\u001b[0m: cannot import name 'counter' from 'collections' (/anaconda3/lib/python3.7/collections/__init__.py)"
     ]
    }
   ],
   "source": [
    "from collections import counter\n",
    "\n",
    "for row in reader:\n",
    "    parts_list.append(row[0])\n",
    "    \n",
    "\n",
    "len(parts_list)\n",
    "parts_list[:5]\n",
    "\n",
    "counter(parts_list)\n",
    "\n",
    "counts = dict(counter(parts_list))\n",
    "\n",
    "{k: v / len(parts_list) for k,v in counts.items()}\n",
    "\n",
    "summary = {k: v / len(parts_list) for k,v in counts.items()}\n",
    "\n",
    "for part, freq_pct in summary.items():\n",
    "    print\n",
    "\n",
    "#watch the first 15 mins of class!!\n",
    "\n",
    "\n",
    "# next 15 related to pypoll\n",
    "\n",
    "list(zip(profit, profit[:1]))\n",
    "    brings together the two profits, with their differences\n",
    "    \n",
    "\n",
    "when max is found\n",
    "    months[diffs.index(max(diffs)) = 1]\n",
    "    index = list method\n",
    "    if value exists, will tell you where it exists\n",
    "\n"
   ]
  },
  {
   "cell_type": "code",
   "execution_count": null,
   "metadata": {},
   "outputs": [],
   "source": []
  }
 ],
 "metadata": {
  "kernelspec": {
   "display_name": "Python 3",
   "language": "python",
   "name": "python3"
  },
  "language_info": {
   "codemirror_mode": {
    "name": "ipython",
    "version": 3
   },
   "file_extension": ".py",
   "mimetype": "text/x-python",
   "name": "python",
   "nbconvert_exporter": "python",
   "pygments_lexer": "ipython3",
   "version": "3.7.0"
  }
 },
 "nbformat": 4,
 "nbformat_minor": 2
}
