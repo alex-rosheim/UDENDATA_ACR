{
 "cells": [
  {
   "cell_type": "code",
   "execution_count": 1,
   "metadata": {},
   "outputs": [
    {
     "name": "stdout",
     "output_type": "stream",
     "text": [
      "PyBank.txt       budget_data.csv  main.py          pyBank.ipynb\r\n"
     ]
    }
   ],
   "source": [
    "ls"
   ]
  },
  {
   "cell_type": "code",
   "execution_count": 2,
   "metadata": {},
   "outputs": [],
   "source": [
    "import csv\n",
    "import numpy as np"
   ]
  },
  {
   "cell_type": "code",
   "execution_count": 3,
   "metadata": {},
   "outputs": [],
   "source": [
    "total_profit = 0\n",
    "profit_list = []\n",
    "profits = []\n",
    "\n",
    "with open(\"budget_data.csv\", 'r') as f:\n",
    "    reader = csv.reader(f, delimiter=',')\n",
    "    next(reader)\n",
    "    for row in reader:\n",
    "        date, profit = row #unpack the row\n",
    "        row_profit= int(profit)\n",
    "        profit_list.append(row_profit)\n",
    "        profits.append(profit)\n",
    "        total_profit += row_profit\n",
    "        \n",
    "total_months = len(profit_list)\n",
    "increase = (max(profit_list)) #should be 1170593\n",
    "decrease = (min(profit_list)) #should be -1196225\n",
    "\n",
    "pairs = []\n",
    "for index, row in enumerate(profits):\n",
    "    try:\n",
    "        pairs.append((int(profits[index + 1]), int(row)))\n",
    "    except IndexError:\n",
    "        pass\n",
    "    \n",
    "month_diff = []\n",
    "\n",
    "for pair in pairs:\n",
    "    second, first = pair\n",
    "    diff = (int(second) - int(first))\n",
    "    month_diff.append(diff)\n",
    "\n",
    "with open('PyBank.txt', 'w') as f:\n",
    "    \n",
    "    f.write(\"Financial Analysis \\n\")\n",
    "    f.write(\"---------------------------- \\n\")  \n",
    "    f.write(\"Total Months : \" + str(total_months) + \"\\n\") #should be 86 months\n",
    "    f.write(\"Total Profit : \" + str(total_profit) + \"\\n\") #should be 38382578  \n",
    "    f.write(\"Average Change : \" + str(np.mean(month_diff)) + \"\\n\") #should be -2315.12\n",
    "    f.write(\"Greatest Increase in Profits : \" + str(increase) + \"\\n\") \n",
    "    f.write(\"Greatest Decrease in Profits : \" + str(decrease) + \"\\n\")\n"
   ]
  },
  {
   "cell_type": "code",
   "execution_count": 4,
   "metadata": {},
   "outputs": [
    {
     "name": "stdout",
     "output_type": "stream",
     "text": [
      "Financial Analysis \r\n",
      "---------------------------- \r\n",
      "Total Months : 86\r\n",
      "Total Profit : 38382578\r\n",
      "Average Change : -2315.1176470588234\r\n",
      "Greatest Increase in Profits : 1170593\r\n",
      "Greatest Decrease in Profits : -1196225\r\n"
     ]
    }
   ],
   "source": [
    "%cat PyBank.txt"
   ]
  },
  {
   "cell_type": "code",
   "execution_count": null,
   "metadata": {},
   "outputs": [],
   "source": []
  }
 ],
 "metadata": {
  "kernelspec": {
   "display_name": "Python 3",
   "language": "python",
   "name": "python3"
  },
  "language_info": {
   "codemirror_mode": {
    "name": "ipython",
    "version": 3
   },
   "file_extension": ".py",
   "mimetype": "text/x-python",
   "name": "python",
   "nbconvert_exporter": "python",
   "pygments_lexer": "ipython3",
   "version": "3.7.0"
  }
 },
 "nbformat": 4,
 "nbformat_minor": 2
}
