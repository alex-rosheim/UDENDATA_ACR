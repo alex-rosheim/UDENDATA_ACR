{
 "cells": [
  {
   "cell_type": "code",
   "execution_count": 79,
   "metadata": {},
   "outputs": [
    {
     "name": "stdout",
     "output_type": "stream",
     "text": [
      "PyPoll.txt         election_data.csv  pyPoll.ipynb\r\n"
     ]
    }
   ],
   "source": [
    "ls"
   ]
  },
  {
   "cell_type": "code",
   "execution_count": 80,
   "metadata": {},
   "outputs": [],
   "source": [
    "import csv"
   ]
  },
  {
   "cell_type": "code",
   "execution_count": 81,
   "metadata": {},
   "outputs": [],
   "source": [
    "votes = []\n",
    "\n",
    "with open(\"election_data.csv\", 'r') as f:\n",
    "    reader = csv.reader(f, delimiter=',')\n",
    "    next(reader)\n",
    "    for row in reader:\n",
    "        voter_id, county, candidate = row\n",
    "        votes.append(candidate)\n",
    "\n",
    "total_votes = len(votes)\n",
    "candidates = (set(votes))\n",
    "kahn_counter = 0\n",
    "li_counter = 0\n",
    "correy_counter = 0\n",
    "otooley_counter = 0\n",
    "\n",
    "for x in votes:\n",
    "    if x == (\"Khan\"):\n",
    "        kahn_counter += 1\n",
    "    elif x == (\"Li\"):\n",
    "        li_counter += 1 \n",
    "    elif x == (\"Correy\"):\n",
    "        correy_counter += 1 \n",
    "    elif x == (\"O'Tooley\"):\n",
    "        otooley_counter += 1       \n",
    "\n",
    "counter = [int(kahn_counter),int(otooley_counter),int(correy_counter),int(li_counter)]\n",
    "total_counter = dict(zip(candidates,counter))\n",
    "percentage_summary = {k: v / total_votes for k,v in total_counter.items()}\n",
    "\n",
    "\n",
    "with open('PyPoll.txt', 'w') as f:\n",
    "\n",
    "    f.write(\"Election Results \\n\")\n",
    "    f.write(\"---------------------------- \\n\")\n",
    "    f.write(\"Total Number of Votes: \\n\")\n",
    "    f.write(str(total_votes) + \"\\n\")\n",
    "    f.write(\"---------------------------- \\n\")\n",
    "    f.write(\"Canidates Receiving Votes: \\n\")\n",
    "    for cand, pct in percentage_summary.items():\n",
    "        f.write (f\"{cand}\" + \"\\n\")\n",
    "    f.write(\"---------------------------- \\n\")\n",
    "    f.write(\"Total Number Votes per Candidate: \\n\")\n",
    "    f.write((list(candidates))[0] + \" : \" + str(kahn_counter) + \"\\n\")\n",
    "    f.write((list(candidates))[1] + \" : \" + str(otooley_counter) + \"\\n\")\n",
    "    f.write((list(candidates))[2] + \" : \" + str(correy_counter) + \"\\n\")\n",
    "    f.write((list(candidates))[3] + \" : \" + str(li_counter) + \"\\n\")\n",
    "    f.write(\"---------------------------- \\n\")\n",
    "    f.write(\"Percentage of Votes per Candidate: \\n\")\n",
    "    for cand, pct in percentage_summary.items():\n",
    "        f.write (f\"{cand} : {round(pct *100,2)}% \\n\")\n",
    "    f.write(\"---------------------------- \\n\")\n",
    "    f.write(\"Winner of Election : \" + (str(max(percentage_summary, key=percentage_summary.get)) + \"\\n\"))\n",
    "\n"
   ]
  },
  {
   "cell_type": "code",
   "execution_count": 78,
   "metadata": {},
   "outputs": [
    {
     "name": "stdout",
     "output_type": "stream",
     "text": [
      "Election Results \r\n",
      "---------------------------- \r\n",
      "Total Number of Votes: \r\n",
      "3521001\r\n",
      "---------------------------- \r\n",
      "Canidates Receiving Votes: \r\n",
      "Khan\r\n",
      "O'Tooley\r\n",
      "Correy\r\n",
      "Li\r\n",
      "---------------------------- \r\n",
      "Total Number Votes per Candidate: \r\n",
      "Khan : 2218231\r\n",
      "O'Tooley : 105630\r\n",
      "Correy : 704200\r\n",
      "Li : 492940\r\n",
      "---------------------------- \r\n",
      "Percentage of Votes per Candidate: \r\n",
      "Khan : 63.0% \r\n",
      "O'Tooley : 3.0% \r\n",
      "Correy : 20.0% \r\n",
      "Li : 14.0% \r\n",
      "---------------------------- \r\n",
      "Winner of Election : Khan\r\n"
     ]
    }
   ],
   "source": [
    "%cat PyPoll.txt"
   ]
  },
  {
   "cell_type": "code",
   "execution_count": null,
   "metadata": {},
   "outputs": [],
   "source": []
  }
 ],
 "metadata": {
  "kernelspec": {
   "display_name": "Python 3",
   "language": "python",
   "name": "python3"
  },
  "language_info": {
   "codemirror_mode": {
    "name": "ipython",
    "version": 3
   },
   "file_extension": ".py",
   "mimetype": "text/x-python",
   "name": "python",
   "nbconvert_exporter": "python",
   "pygments_lexer": "ipython3",
   "version": "3.7.0"
  }
 },
 "nbformat": 4,
 "nbformat_minor": 2
}
