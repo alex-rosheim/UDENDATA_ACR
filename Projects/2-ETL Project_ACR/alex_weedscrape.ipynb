{
 "cells": [
  {
   "cell_type": "code",
   "execution_count": 122,
   "metadata": {},
   "outputs": [],
   "source": [
    "import requests\n",
    "from bs4 import BeautifulSoup\n",
    "import pandas as pd\n",
    "import re\n",
    "import time\n"
   ]
  },
  {
   "cell_type": "code",
   "execution_count": 133,
   "metadata": {},
   "outputs": [
    {
     "name": "stdout",
     "output_type": "stream",
     "text": [
      "6\n"
     ]
    }
   ],
   "source": [
    "target = 'https://weedmaps.com/dispensaries/lightshade-6th-ave?category=edible&page=1'\n",
    "headers = {'User-Agent': 'Mozilla/5.0 (Macintosh; Intel Mac OS X 10_10_1) AppleWebKit/537.36 (KHTML, like Gecko) Chrome/39.0.2171.95 Safari/537.36'}\n",
    "resp = requests.get(target, headers=headers)\n",
    "soup = BeautifulSoup(resp.text, \"html.parser\") #also has xml parsers\n",
    "\n",
    "pages = (int(soup.find('button', {'aria-label' : 'open Select Page menu'}).get_text().split(' ')[-1:][0])+1)\n",
    "print(pages)"
   ]
  },
  {
   "cell_type": "code",
   "execution_count": 124,
   "metadata": {},
   "outputs": [
    {
     "name": "stdout",
     "output_type": "stream",
     "text": [
      "https://weedmaps.com/dispensaries/lightshade-6th-ave?category=edible&page=1\n",
      "[<div class=\"sc-bdVaJa styled-components__Name-sc-186ferk-6 dPiQDX sc-gisBJw haaqWK\">Stillwater Ripple THC DST 100mg</div>, <div class=\"sc-bdVaJa styled-components__Name-sc-186ferk-6 dPiQDX sc-gisBJw haaqWK\">Whitewater Mellow Mint, 80mg</div>, <div class=\"sc-bdVaJa styled-components__Name-sc-186ferk-6 dPiQDX sc-gisBJw haaqWK\">Dixie Birthday Cake Bar 100mg</div>, <div class=\"sc-bdVaJa styled-components__Name-sc-186ferk-6 dPiQDX sc-gisBJw haaqWK\">Love's Oven Fudge Brownies CBD:THC 80mg</div>, <div class=\"sc-bdVaJa styled-components__Name-sc-186ferk-6 dPiQDX sc-gisBJw haaqWK\">1906 Bliss Peanut Butter Cups 2pk 10mg:10mg</div>, <div class=\"sc-bdVaJa styled-components__Name-sc-186ferk-6 dPiQDX sc-gisBJw haaqWK\">1906 Go Beans THC:CBD 100mg:100mg</div>, <div class=\"sc-bdVaJa styled-components__Name-sc-186ferk-6 dPiQDX sc-gisBJw haaqWK\">1906 Go Chocolate 3 pk 15mg:15mg</div>, <div class=\"sc-bdVaJa styled-components__Name-sc-186ferk-6 dPiQDX sc-gisBJw haaqWK\">1906 High Love Beans 1:1</div>, <div class=\"sc-bdVaJa styled-components__Name-sc-186ferk-6 dPiQDX sc-gisBJw haaqWK\">1906 Midnight Chocolate 3 pk 15mg:15mg</div>, <div class=\"sc-bdVaJa styled-components__Name-sc-186ferk-6 dPiQDX sc-gisBJw haaqWK\">Aliviar 1400mg CBD Tincture</div>, <div class=\"sc-bdVaJa styled-components__Name-sc-186ferk-6 dPiQDX sc-gisBJw haaqWK\">Altus CBD 10:1 Pills 500mg:50mg</div>, <div class=\"sc-bdVaJa styled-components__Name-sc-186ferk-6 dPiQDX sc-gisBJw haaqWK\">Altus CBD 1:1 Pills 100mg:100mg</div>, <div class=\"sc-bdVaJa styled-components__Name-sc-186ferk-6 dPiQDX sc-gisBJw haaqWK\">Altus CBD 20:1 Pills 200mg</div>, <div class=\"sc-bdVaJa styled-components__Name-sc-186ferk-6 dPiQDX sc-gisBJw haaqWK\">Altus CBD 50:1 Pills 500mg:10mg</div>, <div class=\"sc-bdVaJa styled-components__Name-sc-186ferk-6 dPiQDX sc-gisBJw haaqWK\">Altus CBD 5:1 Pills</div>, <div class=\"sc-bdVaJa styled-components__Name-sc-186ferk-6 dPiQDX sc-gisBJw haaqWK\">Altus Indica Microdosed Pills 100mg</div>, <div class=\"sc-bdVaJa styled-components__Name-sc-186ferk-6 dPiQDX sc-gisBJw haaqWK\">Altus Sativa Microdosed Pills 100mg</div>, <div class=\"sc-bdVaJa styled-components__Name-sc-186ferk-6 dPiQDX sc-gisBJw haaqWK\">Binske Mango Gummies 100 MG</div>, <div class=\"sc-bdVaJa styled-components__Name-sc-186ferk-6 dPiQDX sc-gisBJw haaqWK\">Binske Milk Hazelnut Chocolate Bar 100mg</div>, <div class=\"sc-bdVaJa styled-components__Name-sc-186ferk-6 dPiQDX sc-gisBJw haaqWK\">Binske Pomegranate Gummies 100mg</div>]\n",
      "https://weedmaps.com/dispensaries/lightshade-6th-ave?category=edible&page=2\n",
      "[<div class=\"sc-bdVaJa styled-components__Name-sc-186ferk-6 dPiQDX sc-gisBJw haaqWK\">Binske Pure Fortunado No. 4 Chocolate Bar 100mg</div>, <div class=\"sc-bdVaJa styled-components__Name-sc-186ferk-6 dPiQDX sc-gisBJw haaqWK\">Binske Raspberry Chocolate Bar 100mg</div>, <div class=\"sc-bdVaJa styled-components__Name-sc-186ferk-6 dPiQDX sc-gisBJw haaqWK\">Binske Sea Salt Chocolate Bar 100mg</div>, <div class=\"sc-bdVaJa styled-components__Name-sc-186ferk-6 dPiQDX sc-gisBJw haaqWK\">Blue Kudu Bonbons CBD:THC 100mg:100mg</div>, <div class=\"sc-bdVaJa styled-components__Name-sc-186ferk-6 dPiQDX sc-gisBJw haaqWK\">Canyon Cultivation Suck It Microdosed Blue Raspberry 100mg</div>, <div class=\"sc-bdVaJa styled-components__Name-sc-186ferk-6 dPiQDX sc-gisBJw haaqWK\">Canyon Cultivation Suck It Microdosed Strawberry Lemonade 100mg</div>, <div class=\"sc-bdVaJa styled-components__Name-sc-186ferk-6 dPiQDX sc-gisBJw haaqWK\">Canyon Cultivation Sucker Strawberry Lemonade 10mg</div>, <div class=\"sc-bdVaJa styled-components__Name-sc-186ferk-6 dPiQDX sc-gisBJw haaqWK\">Cheeba Chew Green Hornet Indica 100mg</div>, <div class=\"sc-bdVaJa styled-components__Name-sc-186ferk-6 dPiQDX sc-gisBJw haaqWK\">Cheeba Chew Green Hornet Sativa 100mg</div>, <div class=\"sc-bdVaJa styled-components__Name-sc-186ferk-6 dPiQDX sc-gisBJw haaqWK\">Cheeba Chew Hybrid 100mg</div>, <div class=\"sc-bdVaJa styled-components__Name-sc-186ferk-6 dPiQDX sc-gisBJw haaqWK\">Cheeba Chew Indica 100mg</div>, <div class=\"sc-bdVaJa styled-components__Name-sc-186ferk-6 dPiQDX sc-gisBJw haaqWK\">Cheeba Chew Pure CBD 100mg</div>, <div class=\"sc-bdVaJa styled-components__Name-sc-186ferk-6 dPiQDX sc-gisBJw haaqWK\">Cheeba Chew Sativa 100mg</div>, <div class=\"sc-bdVaJa styled-components__Name-sc-186ferk-6 dPiQDX sc-gisBJw haaqWK\">Cheeba Chews Strawberry Indica 100mg</div>, <div class=\"sc-bdVaJa styled-components__Name-sc-186ferk-6 dPiQDX sc-gisBJw haaqWK\">Cheeba Chews Strawberry Sativa 100mg</div>, <div class=\"sc-bdVaJa styled-components__Name-sc-186ferk-6 dPiQDX sc-gisBJw haaqWK\">CODA Caramel and Corn Chocolate 100mg</div>, <div class=\"sc-bdVaJa styled-components__Name-sc-186ferk-6 dPiQDX sc-gisBJw haaqWK\">CODA Chocolate Crescendo Truffle 60mg</div>, <div class=\"sc-bdVaJa styled-components__Name-sc-186ferk-6 dPiQDX sc-gisBJw haaqWK\">CODA Chocolate Serenade Truffle 60mg</div>, <div class=\"sc-bdVaJa styled-components__Name-sc-186ferk-6 dPiQDX sc-gisBJw haaqWK\">CODA Coffee and Doughnut Milk Chocolate 100mg</div>, <div class=\"sc-bdVaJa styled-components__Name-sc-186ferk-6 dPiQDX sc-gisBJw haaqWK\">Coda Snap and Spice Chocolate Bar 1:1 100mg</div>]\n",
      "https://weedmaps.com/dispensaries/lightshade-6th-ave?category=edible&page=3\n",
      "[<div class=\"sc-bdVaJa styled-components__Name-sc-186ferk-6 dPiQDX sc-gisBJw haaqWK\">Dixie Awakening Mints Orange Zest 100mg</div>, <div class=\"sc-bdVaJa styled-components__Name-sc-186ferk-6 dPiQDX sc-gisBJw haaqWK\">Dixie Citrus Blast Gummies 100mg</div>, <div class=\"sc-bdVaJa styled-components__Name-sc-186ferk-6 dPiQDX sc-gisBJw haaqWK\">Dixie Dew Drops Vanilla 100mg</div>, <div class=\"sc-bdVaJa styled-components__Name-sc-186ferk-6 dPiQDX sc-gisBJw haaqWK\">Dixie Dew Drops Watermelon 100mg</div>, <div class=\"sc-bdVaJa styled-components__Name-sc-186ferk-6 dPiQDX sc-gisBJw haaqWK\">Dixie Elixir Berry Lemonade 100mg</div>, <div class=\"sc-bdVaJa styled-components__Name-sc-186ferk-6 dPiQDX sc-gisBJw haaqWK\">Dixie Elixir Cherry Limeade 100mg</div>, <div class=\"sc-bdVaJa styled-components__Name-sc-186ferk-6 dPiQDX sc-gisBJw haaqWK\">Dixie Elixir Fruit Punch 100mg</div>, <div class=\"sc-bdVaJa styled-components__Name-sc-186ferk-6 dPiQDX sc-gisBJw haaqWK\">Dixie Relaxing Mints Peppermint 100mg</div>, <div class=\"sc-bdVaJa styled-components__Name-sc-186ferk-6 dPiQDX sc-gisBJw haaqWK\">Dixie Sour Smash Gummies 100mg</div>, <div class=\"sc-bdVaJa styled-components__Name-sc-186ferk-6 dPiQDX sc-gisBJw haaqWK\">Dixie Straight Up Milk Chocolate Bar Indica 100mg</div>, <div class=\"sc-bdVaJa styled-components__Name-sc-186ferk-6 dPiQDX sc-gisBJw haaqWK\">Dixie Straight Up Milk Chocolate Bar Sativa 100mg</div>, <div class=\"sc-bdVaJa styled-components__Name-sc-186ferk-6 dPiQDX sc-gisBJw haaqWK\">Dixie Synergy Drops CBD:THC Vanilla 100mg</div>, <div class=\"sc-bdVaJa styled-components__Name-sc-186ferk-6 dPiQDX sc-gisBJw haaqWK\">Dixie Synergy Drops CBD:THC Watermelon 100mg</div>, <div class=\"sc-bdVaJa styled-components__Name-sc-186ferk-6 dPiQDX sc-gisBJw haaqWK\">Dixie Tropic Twist Gummies 100mg</div>, <div class=\"sc-bdVaJa styled-components__Name-sc-186ferk-6 dPiQDX sc-gisBJw haaqWK\">Dosd Blue Raz Gummies 100mg</div>, <div class=\"sc-bdVaJa styled-components__Name-sc-186ferk-6 dPiQDX sc-gisBJw haaqWK\">Dosd Pina Colada Gummies 100mg</div>, <div class=\"sc-bdVaJa styled-components__Name-sc-186ferk-6 dPiQDX sc-gisBJw haaqWK\">Dosd Raspberry Gummies 100mg 1:1</div>, <div class=\"sc-bdVaJa styled-components__Name-sc-186ferk-6 dPiQDX sc-gisBJw haaqWK\">Keef Cola Cola 10mg</div>, <div class=\"sc-bdVaJa styled-components__Name-sc-186ferk-6 dPiQDX sc-gisBJw haaqWK\">Keef Cola Orange Kush 10mg</div>, <div class=\"sc-bdVaJa styled-components__Name-sc-186ferk-6 dPiQDX sc-gisBJw haaqWK\">Keef Life Blueberry Lemon 100mg</div>]\n",
      "https://weedmaps.com/dispensaries/lightshade-6th-ave?category=edible&page=4\n",
      "[]\n",
      "https://weedmaps.com/dispensaries/lightshade-6th-ave?category=edible&page=5\n",
      "[<div class=\"sc-bdVaJa styled-components__Name-sc-186ferk-6 dPiQDX sc-gisBJw haaqWK\">Wana Blueberry Indica Gummies 100mg</div>, <div class=\"sc-bdVaJa styled-components__Name-sc-186ferk-6 dPiQDX sc-gisBJw haaqWK\">Wana Drops Kiwi Strawberry 1:1</div>, <div class=\"sc-bdVaJa styled-components__Name-sc-186ferk-6 dPiQDX sc-gisBJw haaqWK\">Wana Drops Tangerine Sativa 100mg</div>, <div class=\"sc-bdVaJa styled-components__Name-sc-186ferk-6 dPiQDX sc-gisBJw haaqWK\">Wana Drops Watermelon Indica 100mg</div>, <div class=\"sc-bdVaJa styled-components__Name-sc-186ferk-6 dPiQDX sc-gisBJw haaqWK\">Wana Hybrid Gummies 100mg</div>, <div class=\"sc-bdVaJa styled-components__Name-sc-186ferk-6 dPiQDX sc-gisBJw haaqWK\">Wana Indica Gummies 100mg</div>, <div class=\"sc-bdVaJa styled-components__Name-sc-186ferk-6 dPiQDX sc-gisBJw haaqWK\">Wana Mango Sativa Gummies 100mg</div>, <div class=\"sc-bdVaJa styled-components__Name-sc-186ferk-6 dPiQDX sc-gisBJw haaqWK\">Wana Sativa Gummies 100mg</div>, <div class=\"sc-bdVaJa styled-components__Name-sc-186ferk-6 dPiQDX sc-gisBJw haaqWK\">Wana Sour Strawberry CBD 10:1</div>, <div class=\"sc-bdVaJa styled-components__Name-sc-186ferk-6 dPiQDX sc-gisBJw haaqWK\">Wana Strawberry Lemonade Gummies 1:1 THC:CBD 100mg</div>, <div class=\"sc-bdVaJa styled-components__Name-sc-186ferk-6 dPiQDX sc-gisBJw haaqWK\">Wana Watermelon Gummies 100mg</div>, <div class=\"sc-bdVaJa styled-components__Name-sc-186ferk-6 dPiQDX sc-gisBJw haaqWK\">Wana Yuzu CBD 2:1 Sour Gummies</div>, <div class=\"sc-bdVaJa styled-components__Name-sc-186ferk-6 dPiQDX sc-gisBJw haaqWK\">CODA Cream and Crumble White Chocolate 100mg</div>]\n"
     ]
    }
   ],
   "source": [
    "for p in range (1, pages):\n",
    "    target = 'https://weedmaps.com/dispensaries/lightshade-6th-ave?category=edible&page={}'.format(p)\n",
    "    headers = {'User-Agent': 'Mozilla/5.0 (Macintosh; Intel Mac OS X 10_10_1) AppleWebKit/537.36 (KHTML, like Gecko) Chrome/39.0.2171.95 Safari/537.36'}\n",
    "    resp = requests.get(target, headers=headers)\n",
    "    soup = BeautifulSoup(resp.text, \"html.parser\")\n",
    "    print(target)\n",
    "\n",
    "    print(soup.find_all('div', {'class' : \"sc-bdVaJa styled-components__Name-sc-186ferk-6 dPiQDX sc-gisBJw haaqWK\"}))\n",
    "    time.sleep(5)\n",
    "    \n",
    "    \n",
    "#     p_name = soup.find_all('div', {'class' : \"sc-bdVaJa styled-components__Name-sc-186ferk-6 dPiQDX sc-gisBJw haaqWK\"})\n",
    "# #     print(p_name)\n",
    "#     for n in p_name:\n",
    "#         print(n.get_text())\n",
    "# #     item_name.extend(p_name)\n",
    "    \n",
    "#     p_price = soup.find_all('span', {'class' : 'styled-components__Price-sc-6ubro-3 jLflXl'})\n",
    "# #     print(p_price)\n",
    "#     for y in p_price:\n",
    "#         print(y.get_text())\n",
    "# #     item_price.extend(p_price)\n",
    "\n",
    "\n",
    "\n",
    "#     print(soup.find_all('div', {'class' : \"sc-bdVaJa styled-components__Name-sc-186ferk-6 dPiQDX sc-gisBJw haaqWK\"}))\n",
    "#           .get_text())\n",
    "#     all_info = soup.find_all('div', {'class' : 'sc-bdVaJa styled-components__MenuDetailsContainer-sc-186ferk-3 hWqRwp sc-gisBJw gtIjfe'})\n",
    "#     print(all_info)\n",
    "    \n",
    "    \n",
    "#     item_name = []\n",
    "#     item_price = []\n",
    "\n",
    "#     for x in all_info:\n",
    "#         print(x.find('div', {'class' : \"sc-bdVaJa styled-components__Name-sc-186ferk-6 dPiQDX sc-gisBJw haaqWK\"}).get_text())\n",
    "#         p_name = x.find('div', {'class' : \"sc-bdVaJa styled-components__Name-sc-186ferk-6 dPiQDX sc-gisBJw haaqWK\"}).get_text()\n",
    "#         print(p_name)\n",
    "#         item_name.append(p_name)\n",
    "#         p_price = x.find('span', {'class' : 'styled-components__Price-sc-6ubro-3 jLflXl'}).get_text()\n",
    "#         print(p_price.strip('$'))\n",
    "#         item_price.append(p_price)\n",
    "    "
   ]
  },
  {
   "cell_type": "code",
   "execution_count": 84,
   "metadata": {},
   "outputs": [
    {
     "data": {
      "text/plain": [
       "[]"
      ]
     },
     "execution_count": 84,
     "metadata": {},
     "output_type": "execute_result"
    }
   ],
   "source": [
    "item_name"
   ]
  },
  {
   "cell_type": "code",
   "execution_count": null,
   "metadata": {},
   "outputs": [],
   "source": []
  },
  {
   "cell_type": "code",
   "execution_count": null,
   "metadata": {},
   "outputs": [],
   "source": []
  },
  {
   "cell_type": "code",
   "execution_count": null,
   "metadata": {},
   "outputs": [],
   "source": []
  },
  {
   "cell_type": "code",
   "execution_count": null,
   "metadata": {},
   "outputs": [],
   "source": [
    "possible price \n",
    "<div class=\"sc-bdVaJa hIWjea sc-gisBJw kmjPFk\"><div order=\"2,1\" class=\"sc-bdVaJa gzoWJL sc-gisBJw dnYIYP\"><div class=\"sc-bdVaJa styled-components__LabResultsWrapper-sc-186ferk-7 iOTUyO sc-gisBJw haaqWK\"></div></div><div order=\"1,2\" class=\"styled-components__ItemCardPrices-sc-186ferk-11 gDkxxY sc-bdVaJa gSurwb sc-gisBJw jCGJXQ\"><div order=\"3\" class=\"sc-bdVaJa unit styled-components__PriceType-sc-6ubro-0 juyeGj sc-gisBJw iNAlBI\"><div class=\"sc-bdVaJa styled-components__PriceWrapper-sc-6ubro-2 fCMWWc sc-gisBJw haaqWK\"><div class=\"sc-bdVaJa styled-components__UnitLabel-sc-6ubro-1 VHQoO sc-gisBJw haaqWK\">each</div><span class=\"styled-components__Price-sc-6ubro-3 jLflXl\">$19.50</span></div></div></div></div>"
   ]
  },
  {
   "cell_type": "code",
   "execution_count": null,
   "metadata": {},
   "outputs": [],
   "source": [
    "possible price\n",
    "<span class=\"styled-components__Price-sc-6ubro-3 jLflXl\">$19.50</span>"
   ]
  },
  {
   "cell_type": "code",
   "execution_count": null,
   "metadata": {},
   "outputs": [],
   "source": [
    "possible name\n",
    "<div class=\"sc-bdVaJa styled-components__Name-sc-186ferk-6 dPiQDX sc-gisBJw haaqWK\">Keef Life Cranberry Lime 100mg</div>"
   ]
  },
  {
   "cell_type": "code",
   "execution_count": null,
   "metadata": {},
   "outputs": [],
   "source": []
  },
  {
   "cell_type": "code",
   "execution_count": null,
   "metadata": {},
   "outputs": [],
   "source": []
  },
  {
   "cell_type": "code",
   "execution_count": 125,
   "metadata": {},
   "outputs": [],
   "source": [
    "target = 'https://weedmaps.com/dispensaries/lightshade-6th-ave?category=edible&page=4'\n",
    "headers = {'User-Agent': 'Mozilla/5.0 (Macintosh; Intel Mac OS X 10_10_1) AppleWebKit/537.36 (KHTML, like Gecko) Chrome/39.0.2171.95 Safari/537.36'}\n",
    "resp = requests.get(target, headers=headers)\n",
    "soup = BeautifulSoup(resp.content, \"html.parser\") #also has xml parsers"
   ]
  },
  {
   "cell_type": "code",
   "execution_count": 126,
   "metadata": {},
   "outputs": [
    {
     "name": "stdout",
     "output_type": "stream",
     "text": [
      "[<span class=\"styled-components__Price-sc-6ubro-3 jLflXl\">$<!-- -->19.50</span>, <span class=\"styled-components__Price-sc-6ubro-3 jLflXl\">$<!-- -->19.50</span>, <span class=\"styled-components__Price-sc-6ubro-3 jLflXl\">$<!-- -->16</span>, <span class=\"styled-components__Price-sc-6ubro-3 jLflXl\">$<!-- -->16</span>, <span class=\"styled-components__Price-sc-6ubro-3 jLflXl\">$<!-- -->16</span>, <span class=\"styled-components__Price-sc-6ubro-3 jLflXl\">$<!-- -->16</span>, <span class=\"styled-components__Price-sc-6ubro-3 jLflXl\">$<!-- -->15</span>, <span class=\"styled-components__Price-sc-6ubro-3 jLflXl\">$<!-- -->15</span>, <span class=\"styled-components__Price-sc-6ubro-3 jLflXl\">$<!-- -->22</span>, <span class=\"styled-components__Price-sc-6ubro-3 jLflXl\">$<!-- -->50</span>, <span class=\"styled-components__Price-sc-6ubro-3 jLflXl\">$<!-- -->60</span>, <span class=\"styled-components__Price-sc-6ubro-3 jLflXl\">$<!-- -->32</span>, <span class=\"styled-components__Price-sc-6ubro-3 jLflXl\">$<!-- -->20</span>, <span class=\"styled-components__Price-sc-6ubro-3 jLflXl\">$<!-- -->20</span>, <span class=\"styled-components__Price-sc-6ubro-3 jLflXl\">$<!-- -->20</span>, <span class=\"styled-components__Price-sc-6ubro-3 jLflXl\">$<!-- -->21.50</span>, <span class=\"styled-components__Price-sc-6ubro-3 jLflXl\">$<!-- -->21.50</span>, <span class=\"styled-components__Price-sc-6ubro-3 jLflXl\">$<!-- -->20</span>, <span class=\"styled-components__Price-sc-6ubro-3 jLflXl\">$<!-- -->20</span>, <span class=\"styled-components__Price-sc-6ubro-3 jLflXl\">$<!-- -->20</span>]\n"
     ]
    }
   ],
   "source": [
    "print(soup.find_all('span', {'class' : 'styled-components__Price-sc-6ubro-3 jLflXl'}))"
   ]
  },
  {
   "cell_type": "code",
   "execution_count": null,
   "metadata": {},
   "outputs": [],
   "source": []
  },
  {
   "cell_type": "code",
   "execution_count": 127,
   "metadata": {},
   "outputs": [],
   "source": [
    "all_info = soup.find_all('div', {'class' : 'sc-bdVaJa styled-components__MenuDetailsContainer-sc-186ferk-3 hWqRwp sc-gisBJw gtIjfe'})"
   ]
  },
  {
   "cell_type": "code",
   "execution_count": 129,
   "metadata": {},
   "outputs": [],
   "source": [
    "item_name = []\n",
    "item_price = []\n",
    "\n",
    "for x in all_info:\n",
    "    p_name = x.find('div', {'class' : \"sc-bdVaJa styled-components__Name-sc-186ferk-6 dPiQDX sc-gisBJw haaqWK\"}).get_text()\n",
    "    print(p_name)\n",
    "    p_price = x.find('span', {'class' : 'styled-components__Price-sc-6ubro-3 jLflXl'}).get_text()\n",
    "    print(p_price.strip('$'))\n",
    "    "
   ]
  },
  {
   "cell_type": "code",
   "execution_count": null,
   "metadata": {},
   "outputs": [],
   "source": []
  },
  {
   "cell_type": "code",
   "execution_count": null,
   "metadata": {},
   "outputs": [],
   "source": []
  },
  {
   "cell_type": "code",
   "execution_count": null,
   "metadata": {},
   "outputs": [],
   "source": []
  },
  {
   "cell_type": "code",
   "execution_count": 130,
   "metadata": {},
   "outputs": [
    {
     "data": {
      "text/plain": [
       "[]"
      ]
     },
     "execution_count": 130,
     "metadata": {},
     "output_type": "execute_result"
    }
   ],
   "source": [
    "soup.find_all('div', {'class' : \"sc-bdVaJa styled-components__Name-sc-186ferk-6 dPiQDX sc-gisBJw haaqWK\"})"
   ]
  },
  {
   "cell_type": "code",
   "execution_count": 131,
   "metadata": {},
   "outputs": [
    {
     "data": {
      "text/plain": [
       "[<span class=\"styled-components__Price-sc-6ubro-3 jLflXl\">$<!-- -->19.50</span>,\n",
       " <span class=\"styled-components__Price-sc-6ubro-3 jLflXl\">$<!-- -->19.50</span>,\n",
       " <span class=\"styled-components__Price-sc-6ubro-3 jLflXl\">$<!-- -->16</span>,\n",
       " <span class=\"styled-components__Price-sc-6ubro-3 jLflXl\">$<!-- -->16</span>,\n",
       " <span class=\"styled-components__Price-sc-6ubro-3 jLflXl\">$<!-- -->16</span>,\n",
       " <span class=\"styled-components__Price-sc-6ubro-3 jLflXl\">$<!-- -->16</span>,\n",
       " <span class=\"styled-components__Price-sc-6ubro-3 jLflXl\">$<!-- -->15</span>,\n",
       " <span class=\"styled-components__Price-sc-6ubro-3 jLflXl\">$<!-- -->15</span>,\n",
       " <span class=\"styled-components__Price-sc-6ubro-3 jLflXl\">$<!-- -->22</span>,\n",
       " <span class=\"styled-components__Price-sc-6ubro-3 jLflXl\">$<!-- -->50</span>,\n",
       " <span class=\"styled-components__Price-sc-6ubro-3 jLflXl\">$<!-- -->60</span>,\n",
       " <span class=\"styled-components__Price-sc-6ubro-3 jLflXl\">$<!-- -->32</span>,\n",
       " <span class=\"styled-components__Price-sc-6ubro-3 jLflXl\">$<!-- -->20</span>,\n",
       " <span class=\"styled-components__Price-sc-6ubro-3 jLflXl\">$<!-- -->20</span>,\n",
       " <span class=\"styled-components__Price-sc-6ubro-3 jLflXl\">$<!-- -->20</span>,\n",
       " <span class=\"styled-components__Price-sc-6ubro-3 jLflXl\">$<!-- -->21.50</span>,\n",
       " <span class=\"styled-components__Price-sc-6ubro-3 jLflXl\">$<!-- -->21.50</span>,\n",
       " <span class=\"styled-components__Price-sc-6ubro-3 jLflXl\">$<!-- -->20</span>,\n",
       " <span class=\"styled-components__Price-sc-6ubro-3 jLflXl\">$<!-- -->20</span>,\n",
       " <span class=\"styled-components__Price-sc-6ubro-3 jLflXl\">$<!-- -->20</span>]"
      ]
     },
     "execution_count": 131,
     "metadata": {},
     "output_type": "execute_result"
    }
   ],
   "source": [
    "soup.find_all('span', {'class' : 'styled-components__Price-sc-6ubro-3 jLflXl'})"
   ]
  },
  {
   "cell_type": "code",
   "execution_count": null,
   "metadata": {},
   "outputs": [],
   "source": []
  }
 ],
 "metadata": {
  "kernelspec": {
   "display_name": "Python 3",
   "language": "python",
   "name": "python3"
  },
  "language_info": {
   "codemirror_mode": {
    "name": "ipython",
    "version": 3
   },
   "file_extension": ".py",
   "mimetype": "text/x-python",
   "name": "python",
   "nbconvert_exporter": "python",
   "pygments_lexer": "ipython3",
   "version": "3.7.1"
  }
 },
 "nbformat": 4,
 "nbformat_minor": 2
}
