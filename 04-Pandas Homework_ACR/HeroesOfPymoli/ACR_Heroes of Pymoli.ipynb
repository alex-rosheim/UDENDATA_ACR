{
 "cells": [
  {
   "cell_type": "code",
   "execution_count": 781,
   "metadata": {},
   "outputs": [
    {
     "data": {
      "text/plain": [
       "'/Users/alexrosheim/Desktop/UDENDATA_ACR/04-Pandas Homework_ACR/HeroesOfPymoli'"
      ]
     },
     "execution_count": 781,
     "metadata": {},
     "output_type": "execute_result"
    }
   ],
   "source": [
    "pwd"
   ]
  },
  {
   "cell_type": "code",
   "execution_count": 782,
   "metadata": {},
   "outputs": [],
   "source": [
    "import pandas as pd\n",
    "import numpy as np"
   ]
  },
  {
   "cell_type": "code",
   "execution_count": 783,
   "metadata": {},
   "outputs": [],
   "source": [
    "csv_file = \"Resources/purchase_data.csv\"\n",
    "df = pd.read_csv(csv_file)"
   ]
  },
  {
   "cell_type": "code",
   "execution_count": 784,
   "metadata": {},
   "outputs": [],
   "source": [
    "# Purchasing Analysis (Total)"
   ]
  },
  {
   "cell_type": "code",
   "execution_count": 785,
   "metadata": {},
   "outputs": [
    {
     "data": {
      "text/html": [
       "<div>\n",
       "<style scoped>\n",
       "    .dataframe tbody tr th:only-of-type {\n",
       "        vertical-align: middle;\n",
       "    }\n",
       "\n",
       "    .dataframe tbody tr th {\n",
       "        vertical-align: top;\n",
       "    }\n",
       "\n",
       "    .dataframe thead th {\n",
       "        text-align: right;\n",
       "    }\n",
       "</style>\n",
       "<table border=\"1\" class=\"dataframe\">\n",
       "  <thead>\n",
       "    <tr style=\"text-align: right;\">\n",
       "      <th></th>\n",
       "      <th>Total Players</th>\n",
       "      <th>Num of Unique Items</th>\n",
       "      <th>Avg Price</th>\n",
       "      <th>Num of Purchases</th>\n",
       "      <th>Total Revenue</th>\n",
       "    </tr>\n",
       "  </thead>\n",
       "  <tbody>\n",
       "    <tr>\n",
       "      <th>0</th>\n",
       "      <td>576</td>\n",
       "      <td>183</td>\n",
       "      <td>$3.05</td>\n",
       "      <td>780</td>\n",
       "      <td>$2379.77</td>\n",
       "    </tr>\n",
       "  </tbody>\n",
       "</table>\n",
       "</div>"
      ],
      "text/plain": [
       "   Total Players Num of Unique Items Avg Price  Num of Purchases Total Revenue\n",
       "0            576                 183     $3.05               780      $2379.77"
      ]
     },
     "execution_count": 785,
     "metadata": {},
     "output_type": "execute_result"
    }
   ],
   "source": [
    "total_players = df['SN'].unique().size\n",
    "df['Total Players'] = total_players\n",
    "\n",
    "uniq_items = df['Item ID'].unique().size\n",
    "df['Num of Unique Items'] = uniq_items\n",
    "df['Num of Unique Items'] = df['Num of Unique Items'].map(str)\n",
    "\n",
    "avg_purch = df['Price'].mean()\n",
    "df['Avg Price'] = \"${0:.2f}\".format(avg_purch) \n",
    "\n",
    "total_purch = df['Purchase ID'].count()\n",
    "df['Num of Purchases'] = total_purch\n",
    "\n",
    "total_rev = df['Price'].sum()\n",
    "df['Total Revenue'] = \"${0:.2f}\".format(total_rev)\n",
    "\n",
    "purch_analysis = df[['Total Players', 'Num of Unique Items', 'Avg Price', 'Num of Purchases', 'Total Revenue']]\n",
    "purch_analysis.head(1)"
   ]
  },
  {
   "cell_type": "code",
   "execution_count": 786,
   "metadata": {},
   "outputs": [],
   "source": [
    "# Gender Demographics"
   ]
  },
  {
   "cell_type": "code",
   "execution_count": 787,
   "metadata": {},
   "outputs": [
    {
     "data": {
      "text/html": [
       "<div>\n",
       "<style scoped>\n",
       "    .dataframe tbody tr th:only-of-type {\n",
       "        vertical-align: middle;\n",
       "    }\n",
       "\n",
       "    .dataframe tbody tr th {\n",
       "        vertical-align: top;\n",
       "    }\n",
       "\n",
       "    .dataframe thead th {\n",
       "        text-align: right;\n",
       "    }\n",
       "</style>\n",
       "<table border=\"1\" class=\"dataframe\">\n",
       "  <thead>\n",
       "    <tr style=\"text-align: right;\">\n",
       "      <th></th>\n",
       "      <th>Gender_Pct</th>\n",
       "      <th>Gender_Count</th>\n",
       "    </tr>\n",
       "  </thead>\n",
       "  <tbody>\n",
       "    <tr>\n",
       "      <th>Male</th>\n",
       "      <td>84.03%</td>\n",
       "      <td>484</td>\n",
       "    </tr>\n",
       "    <tr>\n",
       "      <th>Female</th>\n",
       "      <td>14.06%</td>\n",
       "      <td>81</td>\n",
       "    </tr>\n",
       "    <tr>\n",
       "      <th>Other / Non-Disclosed</th>\n",
       "      <td>1.91%</td>\n",
       "      <td>11</td>\n",
       "    </tr>\n",
       "  </tbody>\n",
       "</table>\n",
       "</div>"
      ],
      "text/plain": [
       "                      Gender_Pct  Gender_Count\n",
       "Male                      84.03%           484\n",
       "Female                    14.06%            81\n",
       "Other / Non-Disclosed      1.91%            11"
      ]
     },
     "execution_count": 787,
     "metadata": {},
     "output_type": "execute_result"
    }
   ],
   "source": [
    "gen_total = df.groupby(['Gender','SN']).count().reset_index()['Gender'].value_counts(normalize=False).rename('Gender_Count')\n",
    "gen_percent = df.groupby(['Gender','SN']).count().reset_index()['Gender'].value_counts(normalize=True).map(('{:.2%}'.format)).rename('Gender_Pct')\n",
    "gen_demo = pd.concat([gen_percent,gen_total], axis=1)\n",
    "gen_demo"
   ]
  },
  {
   "cell_type": "code",
   "execution_count": 788,
   "metadata": {},
   "outputs": [],
   "source": [
    "# Purchasing Analysis (Gender)"
   ]
  },
  {
   "cell_type": "code",
   "execution_count": 789,
   "metadata": {},
   "outputs": [
    {
     "data": {
      "text/html": [
       "<div>\n",
       "<style scoped>\n",
       "    .dataframe tbody tr th:only-of-type {\n",
       "        vertical-align: middle;\n",
       "    }\n",
       "\n",
       "    .dataframe tbody tr th {\n",
       "        vertical-align: top;\n",
       "    }\n",
       "\n",
       "    .dataframe thead th {\n",
       "        text-align: right;\n",
       "    }\n",
       "</style>\n",
       "<table border=\"1\" class=\"dataframe\">\n",
       "  <thead>\n",
       "    <tr style=\"text-align: right;\">\n",
       "      <th></th>\n",
       "      <th>Total Purchase Value</th>\n",
       "      <th>Avg Purchase Price</th>\n",
       "      <th>Purchase Count</th>\n",
       "      <th>Gender_Count</th>\n",
       "      <th>Avg Total per Person</th>\n",
       "    </tr>\n",
       "  </thead>\n",
       "  <tbody>\n",
       "    <tr>\n",
       "      <th>Female</th>\n",
       "      <td>$361.94</td>\n",
       "      <td>$3.20</td>\n",
       "      <td>113</td>\n",
       "      <td>81</td>\n",
       "      <td>$4.47</td>\n",
       "    </tr>\n",
       "    <tr>\n",
       "      <th>Male</th>\n",
       "      <td>$1967.64</td>\n",
       "      <td>$3.02</td>\n",
       "      <td>652</td>\n",
       "      <td>484</td>\n",
       "      <td>$4.07</td>\n",
       "    </tr>\n",
       "    <tr>\n",
       "      <th>Other / Non-Disclosed</th>\n",
       "      <td>$50.19</td>\n",
       "      <td>$3.35</td>\n",
       "      <td>15</td>\n",
       "      <td>11</td>\n",
       "      <td>$4.56</td>\n",
       "    </tr>\n",
       "  </tbody>\n",
       "</table>\n",
       "</div>"
      ],
      "text/plain": [
       "                      Total Purchase Value Avg Purchase Price  Purchase Count  \\\n",
       "Female                             $361.94              $3.20             113   \n",
       "Male                              $1967.64              $3.02             652   \n",
       "Other / Non-Disclosed               $50.19              $3.35              15   \n",
       "\n",
       "                       Gender_Count Avg Total per Person  \n",
       "Female                           81                $4.47  \n",
       "Male                            484                $4.07  \n",
       "Other / Non-Disclosed            11                $4.56  "
      ]
     },
     "execution_count": 789,
     "metadata": {},
     "output_type": "execute_result"
    }
   ],
   "source": [
    "g_demo = df.groupby('Gender').agg(['sum', 'mean', 'count'])['Price']\n",
    "g_demo = pd.concat([g_demo, gen_total], axis=1, sort=True)\n",
    "g_demo['Avg Total per Person'] = g_demo['sum'] / g_demo['Gender_Count']\n",
    "g_demo = g_demo.rename(columns={'sum':'Total Purchase Value', 'mean':'Avg Purchase Price', 'count': 'Purchase Count'})\n",
    "g_demo['Total Purchase Value'] = g_demo['Total Purchase Value'].map('${0:.2f}'.format)\n",
    "g_demo['Avg Purchase Price'] = g_demo['Avg Purchase Price'].map('${0:.2f}'.format)\n",
    "g_demo['Avg Total per Person'] = g_demo['Avg Total per Person'].map('${0:.2f}'.format)\n",
    "g_demo"
   ]
  },
  {
   "cell_type": "code",
   "execution_count": 790,
   "metadata": {},
   "outputs": [],
   "source": [
    "# Age Demographics"
   ]
  },
  {
   "cell_type": "code",
   "execution_count": 791,
   "metadata": {},
   "outputs": [
    {
     "data": {
      "text/html": [
       "<div>\n",
       "<style scoped>\n",
       "    .dataframe tbody tr th:only-of-type {\n",
       "        vertical-align: middle;\n",
       "    }\n",
       "\n",
       "    .dataframe tbody tr th {\n",
       "        vertical-align: top;\n",
       "    }\n",
       "\n",
       "    .dataframe thead th {\n",
       "        text-align: right;\n",
       "    }\n",
       "</style>\n",
       "<table border=\"1\" class=\"dataframe\">\n",
       "  <thead>\n",
       "    <tr style=\"text-align: right;\">\n",
       "      <th></th>\n",
       "      <th>Age_Pct</th>\n",
       "      <th>Age_Count</th>\n",
       "    </tr>\n",
       "    <tr>\n",
       "      <th>Age Bins</th>\n",
       "      <th></th>\n",
       "      <th></th>\n",
       "    </tr>\n",
       "  </thead>\n",
       "  <tbody>\n",
       "    <tr>\n",
       "      <th>22-25 yrs</th>\n",
       "      <td>33.72%</td>\n",
       "      <td>263</td>\n",
       "    </tr>\n",
       "    <tr>\n",
       "      <th>19-21 yrs</th>\n",
       "      <td>23.59%</td>\n",
       "      <td>184</td>\n",
       "    </tr>\n",
       "    <tr>\n",
       "      <th>15-18 yrs</th>\n",
       "      <td>14.49%</td>\n",
       "      <td>113</td>\n",
       "    </tr>\n",
       "    <tr>\n",
       "      <th>26-30 yrs</th>\n",
       "      <td>9.87%</td>\n",
       "      <td>77</td>\n",
       "    </tr>\n",
       "    <tr>\n",
       "      <th>31-35 yrs</th>\n",
       "      <td>6.67%</td>\n",
       "      <td>52</td>\n",
       "    </tr>\n",
       "    <tr>\n",
       "      <th>0-14 yrs</th>\n",
       "      <td>6.54%</td>\n",
       "      <td>51</td>\n",
       "    </tr>\n",
       "    <tr>\n",
       "      <th>36-40 yrs</th>\n",
       "      <td>4.23%</td>\n",
       "      <td>33</td>\n",
       "    </tr>\n",
       "    <tr>\n",
       "      <th>41-50 yrs</th>\n",
       "      <td>0.90%</td>\n",
       "      <td>7</td>\n",
       "    </tr>\n",
       "  </tbody>\n",
       "</table>\n",
       "</div>"
      ],
      "text/plain": [
       "          Age_Pct  Age_Count\n",
       "Age Bins                    \n",
       "22-25 yrs  33.72%        263\n",
       "19-21 yrs  23.59%        184\n",
       "15-18 yrs  14.49%        113\n",
       "26-30 yrs   9.87%         77\n",
       "31-35 yrs   6.67%         52\n",
       "0-14 yrs    6.54%         51\n",
       "36-40 yrs   4.23%         33\n",
       "41-50 yrs   0.90%          7"
      ]
     },
     "execution_count": 791,
     "metadata": {},
     "output_type": "execute_result"
    }
   ],
   "source": [
    "bins = [0, 14, 18, 21, 25, 30, 35, 40, 50]\n",
    "group_names = [\"0-14 yrs\", \"15-18 yrs\", \"19-21 yrs\", \"22-25 yrs\", \"26-30 yrs\", \"31-35 yrs\", \"36-40 yrs\", \"41-50 yrs\"]\n",
    "df[\"Age_Bins\"] = pd.cut(df[\"Age\"], bins, labels=group_names)\n",
    "age_percent = df['Age_Bins'].value_counts(normalize=True).map('{:.2%}'.format).rename('Age_Pct')\n",
    "age_total = df['Age_Bins'].value_counts(normalize=False).rename('Age_Count')\n",
    "age_demo = pd.concat([age_percent, age_total], axis=1)\n",
    "age_demo.index.name = 'Age Bins'\n",
    "age_demo"
   ]
  },
  {
   "cell_type": "code",
   "execution_count": 792,
   "metadata": {},
   "outputs": [],
   "source": [
    "# Age Demographics (continued)"
   ]
  },
  {
   "cell_type": "code",
   "execution_count": 793,
   "metadata": {
    "scrolled": true
   },
   "outputs": [
    {
     "data": {
      "text/html": [
       "<div>\n",
       "<style scoped>\n",
       "    .dataframe tbody tr th:only-of-type {\n",
       "        vertical-align: middle;\n",
       "    }\n",
       "\n",
       "    .dataframe tbody tr th {\n",
       "        vertical-align: top;\n",
       "    }\n",
       "\n",
       "    .dataframe thead th {\n",
       "        text-align: right;\n",
       "    }\n",
       "</style>\n",
       "<table border=\"1\" class=\"dataframe\">\n",
       "  <thead>\n",
       "    <tr style=\"text-align: right;\">\n",
       "      <th></th>\n",
       "      <th>Purchase Count</th>\n",
       "      <th>Avg Purchase Price</th>\n",
       "      <th>Total Purchase Value</th>\n",
       "      <th>Avg Purchase per Person</th>\n",
       "    </tr>\n",
       "    <tr>\n",
       "      <th>Age Bins</th>\n",
       "      <th></th>\n",
       "      <th></th>\n",
       "      <th></th>\n",
       "      <th></th>\n",
       "    </tr>\n",
       "  </thead>\n",
       "  <tbody>\n",
       "    <tr>\n",
       "      <th>22-25 yrs</th>\n",
       "      <td>263</td>\n",
       "      <td>$3.05</td>\n",
       "      <td>$800.90</td>\n",
       "      <td>$3.04</td>\n",
       "    </tr>\n",
       "    <tr>\n",
       "      <th>19-21 yrs</th>\n",
       "      <td>184</td>\n",
       "      <td>$3.07</td>\n",
       "      <td>$565.04</td>\n",
       "      <td>$3.13</td>\n",
       "    </tr>\n",
       "    <tr>\n",
       "      <th>15-18 yrs</th>\n",
       "      <td>113</td>\n",
       "      <td>$3.03</td>\n",
       "      <td>$342.91</td>\n",
       "      <td>$3.08</td>\n",
       "    </tr>\n",
       "    <tr>\n",
       "      <th>26-30 yrs</th>\n",
       "      <td>77</td>\n",
       "      <td>$2.88</td>\n",
       "      <td>$221.42</td>\n",
       "      <td>$2.90</td>\n",
       "    </tr>\n",
       "    <tr>\n",
       "      <th>31-35 yrs</th>\n",
       "      <td>52</td>\n",
       "      <td>$2.99</td>\n",
       "      <td>$155.71</td>\n",
       "      <td>$3.00</td>\n",
       "    </tr>\n",
       "    <tr>\n",
       "      <th>0-14 yrs</th>\n",
       "      <td>51</td>\n",
       "      <td>$3.14</td>\n",
       "      <td>$159.91</td>\n",
       "      <td>$3.21</td>\n",
       "    </tr>\n",
       "    <tr>\n",
       "      <th>36-40 yrs</th>\n",
       "      <td>33</td>\n",
       "      <td>$3.40</td>\n",
       "      <td>$112.35</td>\n",
       "      <td>$3.29</td>\n",
       "    </tr>\n",
       "    <tr>\n",
       "      <th>41-50 yrs</th>\n",
       "      <td>7</td>\n",
       "      <td>$3.08</td>\n",
       "      <td>$21.53</td>\n",
       "      <td>$3.08</td>\n",
       "    </tr>\n",
       "  </tbody>\n",
       "</table>\n",
       "</div>"
      ],
      "text/plain": [
       "           Purchase Count Avg Purchase Price Total Purchase Value  \\\n",
       "Age Bins                                                            \n",
       "22-25 yrs             263              $3.05              $800.90   \n",
       "19-21 yrs             184              $3.07              $565.04   \n",
       "15-18 yrs             113              $3.03              $342.91   \n",
       "26-30 yrs              77              $2.88              $221.42   \n",
       "31-35 yrs              52              $2.99              $155.71   \n",
       "0-14 yrs               51              $3.14              $159.91   \n",
       "36-40 yrs              33              $3.40              $112.35   \n",
       "41-50 yrs               7              $3.08               $21.53   \n",
       "\n",
       "          Avg Purchase per Person  \n",
       "Age Bins                           \n",
       "22-25 yrs                   $3.04  \n",
       "19-21 yrs                   $3.13  \n",
       "15-18 yrs                   $3.08  \n",
       "26-30 yrs                   $2.90  \n",
       "31-35 yrs                   $3.00  \n",
       "0-14 yrs                    $3.21  \n",
       "36-40 yrs                   $3.29  \n",
       "41-50 yrs                   $3.08  "
      ]
     },
     "execution_count": 793,
     "metadata": {},
     "output_type": "execute_result"
    }
   ],
   "source": [
    "age_demo['Purchase Count'] = df.groupby('Age_Bins')['Price'].agg(['count'])\n",
    "age_demo['Avg Purchase Price'] = df.groupby('Age_Bins')['Price'].agg(['mean'])\n",
    "age_demo['Total Purchase Value'] = df.groupby('Age_Bins')['Price'].agg(['sum'])\n",
    "age_demo['Avg Purchase Price'] = age_demo['Avg Purchase Price'].map('${0:.2f}'.format)\n",
    "age_demo['Total Purchase Value'] = age_demo['Total Purchase Value'].map('${0:.2f}'.format)\n",
    "age_demo['Avg Purchase per Person'] = df.drop_duplicates('SN').groupby('Age_Bins')['Price'].agg(['mean'])\n",
    "age_demo['Avg Purchase per Person'] = age_demo['Avg Purchase per Person'].map('${0:.2f}'.format)\n",
    "age_demo = age_demo[['Purchase Count', 'Avg Purchase Price', 'Total Purchase Value', 'Avg Purchase per Person']]\n",
    "age_demo\n"
   ]
  },
  {
   "cell_type": "code",
   "execution_count": 794,
   "metadata": {},
   "outputs": [],
   "source": [
    "# Top Spenders"
   ]
  },
  {
   "cell_type": "code",
   "execution_count": 795,
   "metadata": {},
   "outputs": [
    {
     "data": {
      "text/html": [
       "<div>\n",
       "<style scoped>\n",
       "    .dataframe tbody tr th:only-of-type {\n",
       "        vertical-align: middle;\n",
       "    }\n",
       "\n",
       "    .dataframe tbody tr th {\n",
       "        vertical-align: top;\n",
       "    }\n",
       "\n",
       "    .dataframe thead th {\n",
       "        text-align: right;\n",
       "    }\n",
       "</style>\n",
       "<table border=\"1\" class=\"dataframe\">\n",
       "  <thead>\n",
       "    <tr style=\"text-align: right;\">\n",
       "      <th></th>\n",
       "      <th>Total Purchase Value</th>\n",
       "      <th>Item Price</th>\n",
       "      <th>Purchase Count</th>\n",
       "    </tr>\n",
       "    <tr>\n",
       "      <th>SN</th>\n",
       "      <th></th>\n",
       "      <th></th>\n",
       "      <th></th>\n",
       "    </tr>\n",
       "  </thead>\n",
       "  <tbody>\n",
       "    <tr>\n",
       "      <th>Lisosia93</th>\n",
       "      <td>$18.96</td>\n",
       "      <td>$3.79</td>\n",
       "      <td>5</td>\n",
       "    </tr>\n",
       "    <tr>\n",
       "      <th>Idastidru52</th>\n",
       "      <td>$15.45</td>\n",
       "      <td>$3.86</td>\n",
       "      <td>4</td>\n",
       "    </tr>\n",
       "    <tr>\n",
       "      <th>Chamjask73</th>\n",
       "      <td>$13.83</td>\n",
       "      <td>$4.61</td>\n",
       "      <td>3</td>\n",
       "    </tr>\n",
       "    <tr>\n",
       "      <th>Iral74</th>\n",
       "      <td>$13.62</td>\n",
       "      <td>$3.40</td>\n",
       "      <td>4</td>\n",
       "    </tr>\n",
       "    <tr>\n",
       "      <th>Iskadarya95</th>\n",
       "      <td>$13.10</td>\n",
       "      <td>$4.37</td>\n",
       "      <td>3</td>\n",
       "    </tr>\n",
       "  </tbody>\n",
       "</table>\n",
       "</div>"
      ],
      "text/plain": [
       "            Total Purchase Value Item Price  Purchase Count\n",
       "SN                                                         \n",
       "Lisosia93                 $18.96      $3.79               5\n",
       "Idastidru52               $15.45      $3.86               4\n",
       "Chamjask73                $13.83      $4.61               3\n",
       "Iral74                    $13.62      $3.40               4\n",
       "Iskadarya95               $13.10      $4.37               3"
      ]
     },
     "execution_count": 795,
     "metadata": {},
     "output_type": "execute_result"
    }
   ],
   "source": [
    "spenders = df.groupby('SN')['Price'].agg(['sum', 'mean', 'count'])\n",
    "spenders = spenders.rename(columns={'sum':'Total Purchase Value', 'mean':'Item Price', 'count': 'Purchase Count'})\n",
    "spenders['Item Price'] = spenders['Item Price'].map('${0:.2f}'.format)\n",
    "spenders = spenders.sort_values(by='Total Purchase Value', ascending=False)\n",
    "spenders['Total Purchase Value'] = spenders['Total Purchase Value'].map('${0:.2f}'.format)\n",
    "spenders.head()"
   ]
  },
  {
   "cell_type": "code",
   "execution_count": 796,
   "metadata": {},
   "outputs": [],
   "source": [
    "# Most Popular Items"
   ]
  },
  {
   "cell_type": "code",
   "execution_count": 797,
   "metadata": {},
   "outputs": [
    {
     "data": {
      "text/html": [
       "<div>\n",
       "<style scoped>\n",
       "    .dataframe tbody tr th:only-of-type {\n",
       "        vertical-align: middle;\n",
       "    }\n",
       "\n",
       "    .dataframe tbody tr th {\n",
       "        vertical-align: top;\n",
       "    }\n",
       "\n",
       "    .dataframe thead th {\n",
       "        text-align: right;\n",
       "    }\n",
       "</style>\n",
       "<table border=\"1\" class=\"dataframe\">\n",
       "  <thead>\n",
       "    <tr style=\"text-align: right;\">\n",
       "      <th></th>\n",
       "      <th></th>\n",
       "      <th>Purchase Count</th>\n",
       "      <th>Item Price</th>\n",
       "      <th>Total Purchase Value</th>\n",
       "    </tr>\n",
       "    <tr>\n",
       "      <th>Item ID</th>\n",
       "      <th>Item Name</th>\n",
       "      <th></th>\n",
       "      <th></th>\n",
       "      <th></th>\n",
       "    </tr>\n",
       "  </thead>\n",
       "  <tbody>\n",
       "    <tr>\n",
       "      <th>178</th>\n",
       "      <th>Oathbreaker, Last Hope of the Breaking Storm</th>\n",
       "      <td>12</td>\n",
       "      <td>$4.23</td>\n",
       "      <td>$50.76</td>\n",
       "    </tr>\n",
       "    <tr>\n",
       "      <th>145</th>\n",
       "      <th>Fiery Glass Crusader</th>\n",
       "      <td>9</td>\n",
       "      <td>$4.58</td>\n",
       "      <td>$41.22</td>\n",
       "    </tr>\n",
       "    <tr>\n",
       "      <th>108</th>\n",
       "      <th>Extraction, Quickblade Of Trembling Hands</th>\n",
       "      <td>9</td>\n",
       "      <td>$3.53</td>\n",
       "      <td>$31.77</td>\n",
       "    </tr>\n",
       "    <tr>\n",
       "      <th>82</th>\n",
       "      <th>Nirvana</th>\n",
       "      <td>9</td>\n",
       "      <td>$4.90</td>\n",
       "      <td>$44.10</td>\n",
       "    </tr>\n",
       "    <tr>\n",
       "      <th>19</th>\n",
       "      <th>Pursuit, Cudgel of Necromancy</th>\n",
       "      <td>8</td>\n",
       "      <td>$1.02</td>\n",
       "      <td>$8.16</td>\n",
       "    </tr>\n",
       "  </tbody>\n",
       "</table>\n",
       "</div>"
      ],
      "text/plain": [
       "                                                      Purchase Count  \\\n",
       "Item ID Item Name                                                      \n",
       "178     Oathbreaker, Last Hope of the Breaking Storm              12   \n",
       "145     Fiery Glass Crusader                                       9   \n",
       "108     Extraction, Quickblade Of Trembling Hands                  9   \n",
       "82      Nirvana                                                    9   \n",
       "19      Pursuit, Cudgel of Necromancy                              8   \n",
       "\n",
       "                                                     Item Price  \\\n",
       "Item ID Item Name                                                 \n",
       "178     Oathbreaker, Last Hope of the Breaking Storm      $4.23   \n",
       "145     Fiery Glass Crusader                              $4.58   \n",
       "108     Extraction, Quickblade Of Trembling Hands         $3.53   \n",
       "82      Nirvana                                           $4.90   \n",
       "19      Pursuit, Cudgel of Necromancy                     $1.02   \n",
       "\n",
       "                                                     Total Purchase Value  \n",
       "Item ID Item Name                                                          \n",
       "178     Oathbreaker, Last Hope of the Breaking Storm               $50.76  \n",
       "145     Fiery Glass Crusader                                       $41.22  \n",
       "108     Extraction, Quickblade Of Trembling Hands                  $31.77  \n",
       "82      Nirvana                                                    $44.10  \n",
       "19      Pursuit, Cudgel of Necromancy                               $8.16  "
      ]
     },
     "execution_count": 797,
     "metadata": {},
     "output_type": "execute_result"
    }
   ],
   "source": [
    "popular = df.groupby(['Item ID','Item Name'])['Price'].agg(['count', 'mean', 'sum'])\n",
    "popular = popular.rename(columns={'sum':'Total Purchase Value', 'mean':'Item Price', 'count': 'Purchase Count'})\n",
    "popular['Item Price'] = popular['Item Price'].map('${0:.2f}'.format)\n",
    "popular['Total Purchase Value'] = popular['Total Purchase Value'].map('${0:.2f}'.format)\n",
    "popular.sort_values(by='Purchase Count', ascending=False).head()"
   ]
  },
  {
   "cell_type": "code",
   "execution_count": 798,
   "metadata": {},
   "outputs": [],
   "source": [
    "# Most Profitable Items"
   ]
  },
  {
   "cell_type": "code",
   "execution_count": 799,
   "metadata": {
    "scrolled": false
   },
   "outputs": [
    {
     "data": {
      "text/html": [
       "<div>\n",
       "<style scoped>\n",
       "    .dataframe tbody tr th:only-of-type {\n",
       "        vertical-align: middle;\n",
       "    }\n",
       "\n",
       "    .dataframe tbody tr th {\n",
       "        vertical-align: top;\n",
       "    }\n",
       "\n",
       "    .dataframe thead th {\n",
       "        text-align: right;\n",
       "    }\n",
       "</style>\n",
       "<table border=\"1\" class=\"dataframe\">\n",
       "  <thead>\n",
       "    <tr style=\"text-align: right;\">\n",
       "      <th></th>\n",
       "      <th></th>\n",
       "      <th>Purchase Count</th>\n",
       "      <th>Item Price</th>\n",
       "      <th>Total Purchase Value</th>\n",
       "    </tr>\n",
       "    <tr>\n",
       "      <th>Item ID</th>\n",
       "      <th>Item Name</th>\n",
       "      <th></th>\n",
       "      <th></th>\n",
       "      <th></th>\n",
       "    </tr>\n",
       "  </thead>\n",
       "  <tbody>\n",
       "    <tr>\n",
       "      <th>178</th>\n",
       "      <th>Oathbreaker, Last Hope of the Breaking Storm</th>\n",
       "      <td>12</td>\n",
       "      <td>$4.23</td>\n",
       "      <td>$50.76</td>\n",
       "    </tr>\n",
       "    <tr>\n",
       "      <th>82</th>\n",
       "      <th>Nirvana</th>\n",
       "      <td>9</td>\n",
       "      <td>$4.90</td>\n",
       "      <td>$44.10</td>\n",
       "    </tr>\n",
       "    <tr>\n",
       "      <th>145</th>\n",
       "      <th>Fiery Glass Crusader</th>\n",
       "      <td>9</td>\n",
       "      <td>$4.58</td>\n",
       "      <td>$41.22</td>\n",
       "    </tr>\n",
       "    <tr>\n",
       "      <th>92</th>\n",
       "      <th>Final Critic</th>\n",
       "      <td>8</td>\n",
       "      <td>$4.88</td>\n",
       "      <td>$39.04</td>\n",
       "    </tr>\n",
       "    <tr>\n",
       "      <th>103</th>\n",
       "      <th>Singed Scalpel</th>\n",
       "      <td>8</td>\n",
       "      <td>$4.35</td>\n",
       "      <td>$34.80</td>\n",
       "    </tr>\n",
       "  </tbody>\n",
       "</table>\n",
       "</div>"
      ],
      "text/plain": [
       "                                                      Purchase Count  \\\n",
       "Item ID Item Name                                                      \n",
       "178     Oathbreaker, Last Hope of the Breaking Storm              12   \n",
       "82      Nirvana                                                    9   \n",
       "145     Fiery Glass Crusader                                       9   \n",
       "92      Final Critic                                               8   \n",
       "103     Singed Scalpel                                             8   \n",
       "\n",
       "                                                     Item Price  \\\n",
       "Item ID Item Name                                                 \n",
       "178     Oathbreaker, Last Hope of the Breaking Storm      $4.23   \n",
       "82      Nirvana                                           $4.90   \n",
       "145     Fiery Glass Crusader                              $4.58   \n",
       "92      Final Critic                                      $4.88   \n",
       "103     Singed Scalpel                                    $4.35   \n",
       "\n",
       "                                                     Total Purchase Value  \n",
       "Item ID Item Name                                                          \n",
       "178     Oathbreaker, Last Hope of the Breaking Storm               $50.76  \n",
       "82      Nirvana                                                    $44.10  \n",
       "145     Fiery Glass Crusader                                       $41.22  \n",
       "92      Final Critic                                               $39.04  \n",
       "103     Singed Scalpel                                             $34.80  "
      ]
     },
     "execution_count": 799,
     "metadata": {},
     "output_type": "execute_result"
    }
   ],
   "source": [
    "profitable = df.groupby(['Item ID','Item Name'])['Price'].agg(['count', 'mean', 'sum'])\n",
    "profitable = profitable.rename(columns={'sum':'Total Purchase Value', 'mean':'Item Price', 'count': 'Purchase Count'})\n",
    "profitable['Item Price'] = profitable['Item Price'].map('${0:.2f}'.format)\n",
    "profitable = profitable.sort_values(by='Total Purchase Value', ascending=False)\n",
    "profitable['Total Purchase Value'] = profitable['Total Purchase Value'].map('${0:.2f}'.format)\n",
    "profitable.head()"
   ]
  },
  {
   "cell_type": "code",
   "execution_count": 800,
   "metadata": {},
   "outputs": [],
   "source": [
    "# You must include a written description of three observable trends based on the data."
   ]
  },
  {
   "cell_type": "markdown",
   "metadata": {},
   "source": [
    "#Age Demographics"
   ]
  },
  {
   "cell_type": "markdown",
   "metadata": {},
   "source": [
    "Over 1/3 of our users fall into the age demographic of 22-25 yrs, with 263 of the total 576 users.\n",
    "The next highest age demographics are 19-21 yrs, with 184 users, and 15-18 yrs with 113 users.\n",
    "Totgether, these three age demographics account for 71.8% of all users."
   ]
  },
  {
   "cell_type": "code",
   "execution_count": 802,
   "metadata": {},
   "outputs": [
    {
     "data": {
      "text/plain": [
       "Female                   28.32%\n",
       "Male                     25.77%\n",
       "Other / Non-Disclosed    26.67%\n",
       "dtype: object"
      ]
     },
     "execution_count": 802,
     "metadata": {},
     "output_type": "execute_result"
    }
   ],
   "source": [
    "repeat_purchase = gen_demo['Gender_Count'] / df.groupby('Gender').count()['Price']\n",
    "repeat_purchase = (1 - repeat_purchase).map('{:.2%}'.format)\n",
    "repeat_purchase"
   ]
  },
  {
   "cell_type": "markdown",
   "metadata": {},
   "source": [
    "#Gender Demographics"
   ]
  },
  {
   "cell_type": "markdown",
   "metadata": {},
   "source": [
    "As anticipated, there are considerably more men than women who are active players of our games.\n",
    "Of the 576 total users, 84% are male, with 484 users, and 14% are female with 81 users.\n",
    "\n",
    "Additinally, many of these users purchase more than one of our games.\n",
    "We can see a trend that over 25% of our total users will also purchase more than game.\n",
    "Female users lead that category with 28% of their users purchasing additional games.\n",
    "Their Male counter parts are a litte less likely to purchase additinal games, but are still over the trend of 25% being repeat customers."
   ]
  },
  {
   "cell_type": "code",
   "execution_count": null,
   "metadata": {},
   "outputs": [],
   "source": []
  }
 ],
 "metadata": {
  "kernelspec": {
   "display_name": "Python 3",
   "language": "python",
   "name": "python3"
  },
  "language_info": {
   "codemirror_mode": {
    "name": "ipython",
    "version": 3
   },
   "file_extension": ".py",
   "mimetype": "text/x-python",
   "name": "python",
   "nbconvert_exporter": "python",
   "pygments_lexer": "ipython3",
   "version": "3.7.0"
  }
 },
 "nbformat": 4,
 "nbformat_minor": 2
}
