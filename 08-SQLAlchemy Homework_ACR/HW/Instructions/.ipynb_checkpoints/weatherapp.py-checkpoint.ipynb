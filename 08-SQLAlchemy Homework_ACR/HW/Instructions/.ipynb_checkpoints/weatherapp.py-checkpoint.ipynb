{
 "cells": [
  {
   "cell_type": "code",
   "execution_count": 2,
   "metadata": {},
   "outputs": [],
   "source": [
    "# %matplotlib inline\n",
    "# from matplotlib import style\n",
    "# style.use('fivethirtyeight')\n",
    "# import matplotlib.pyplot as plt"
   ]
  },
  {
   "cell_type": "code",
   "execution_count": 3,
   "metadata": {},
   "outputs": [],
   "source": [
    "# import numpy as np\n",
    "# import pandas as pd\n",
    "# import datetime as dt"
   ]
  },
  {
   "cell_type": "code",
   "execution_count": 4,
   "metadata": {},
   "outputs": [],
   "source": [
    "# # Python SQL toolkit and Object Relational Mapper\n",
    "# import sqlalchemy\n",
    "# from sqlalchemy.ext.automap import automap_base\n",
    "# from sqlalchemy.orm import Session\n",
    "# from sqlalchemy import create_engine, func"
   ]
  },
  {
   "cell_type": "code",
   "execution_count": 5,
   "metadata": {},
   "outputs": [],
   "source": [
    "# engine = create_engine(\"sqlite:///Resources/hawaii.sqlite\")"
   ]
  },
  {
   "cell_type": "code",
   "execution_count": 6,
   "metadata": {},
   "outputs": [],
   "source": [
    "# # reflect an existing database into a new model\n",
    "# Base = automap_base()\n",
    "# # reflect the tables\n",
    "# Base.prepare(engine, reflect=True)"
   ]
  },
  {
   "cell_type": "code",
   "execution_count": 7,
   "metadata": {},
   "outputs": [
    {
     "data": {
      "text/plain": [
       "['measurement', 'station']"
      ]
     },
     "execution_count": 7,
     "metadata": {},
     "output_type": "execute_result"
    }
   ],
   "source": [
    "# # We can view all of the classes that automap found\n",
    "# Base.classes.keys()"
   ]
  },
  {
   "cell_type": "code",
   "execution_count": 10,
   "metadata": {},
   "outputs": [],
   "source": [
    "# # Save references to each table\n",
    "# Measurement = Base.classes.measurement\n",
    "# Station = Base.classes.station"
   ]
  },
  {
   "cell_type": "code",
   "execution_count": 11,
   "metadata": {},
   "outputs": [],
   "source": [
    "# # Create our session (link) from Python to the DB\n",
    "# session = Session(engine)"
   ]
  },
  {
   "cell_type": "code",
   "execution_count": 12,
   "metadata": {},
   "outputs": [
    {
     "name": "stdout",
     "output_type": "stream",
     "text": [
      " * Serving Flask app \"__main__\" (lazy loading)\n",
      " * Environment: production\n",
      "   WARNING: Do not use the development server in a production environment.\n",
      "   Use a production WSGI server instead.\n",
      " * Debug mode: on\n"
     ]
    },
    {
     "name": "stderr",
     "output_type": "stream",
     "text": [
      " * Running on http://127.0.0.1:5000/ (Press CTRL+C to quit)\n",
      " * Restarting with stat\n"
     ]
    },
    {
     "ename": "SystemExit",
     "evalue": "1",
     "output_type": "error",
     "traceback": [
      "An exception has occurred, use %tb to see the full traceback.\n",
      "\u001b[0;31mSystemExit\u001b[0m\u001b[0;31m:\u001b[0m 1\n"
     ]
    },
    {
     "name": "stderr",
     "output_type": "stream",
     "text": [
      "/anaconda3/lib/python3.7/site-packages/IPython/core/interactiveshell.py:2969: UserWarning: To exit: use 'exit', 'quit', or Ctrl-D.\n",
      "  warn(\"To exit: use 'exit', 'quit', or Ctrl-D.\", stacklevel=1)\n"
     ]
    }
   ],
   "source": [
    "from flask import Flask, jsonify\n",
    "\n",
    "# Dictionary\n",
    "\n",
    "precip_dict = []\n",
    "for row in session.query(Measurement):\n",
    "    precip_dict.append({row.date : row.prcp})\n",
    "\n",
    "#################################################\n",
    "# Flask Setup\n",
    "#################################################\n",
    "# @TODO: Initialize your Flask app here\n",
    "# YOUR CODE GOES HERE\n",
    "\n",
    "# 2. Create an app, being sure to pass __name__\n",
    "app = Flask(__name__)\n",
    "\n",
    "\n",
    "#################################################\n",
    "# Flask Routes\n",
    "#################################################\n",
    "\n",
    "# @TODO: Complete the routes for your app here\n",
    "# YOUR CODE GOES HERE\n",
    "\n",
    "@app.route(\"/\")\n",
    "def home():\n",
    "    return \"Welcome to my Weather-App!\"\n",
    "    #links to other routes\n",
    "\n",
    "# @app.route(\"/api/v1.0/precipitation\")\n",
    "# def precipitation():\n",
    "#     print(\"Server received request for 'precipitation' page...\")\n",
    "# #     return \"Welcome to my 'Precipitation' page:\"\n",
    "#     return jsonify(precip_dict)\n",
    "\n",
    "# @app.route(\"/stations\")\n",
    "# def stations():\n",
    "#     print(\"Server received request for 'stations' page...\")\n",
    "# #     return \"Welcome to my 'About' page:\"\n",
    "#     return jsonify(justice_league_members)\n",
    "\n",
    "# @app.route(\"/tobs\")\n",
    "# def tobs():\n",
    "#     print(\"Server received request for 'tobs' page...\")\n",
    "# #     return \"Welcome to my 'About' page:\"\n",
    "#     return jsonify(justice_league_members)\n",
    "\n",
    "if __name__ == \"__main__\":\n",
    "    # @TODO: Create your app.run statement here\n",
    "    # YOUR CODE GOES HERE\n",
    "     app.run(debug=True)"
   ]
  },
  {
   "cell_type": "code",
   "execution_count": null,
   "metadata": {},
   "outputs": [],
   "source": []
  }
 ],
 "metadata": {
  "kernelspec": {
   "display_name": "Python 3",
   "language": "python",
   "name": "python3"
  },
  "language_info": {
   "codemirror_mode": {
    "name": "ipython",
    "version": 3
   },
   "file_extension": ".py",
   "mimetype": "text/x-python",
   "name": "python",
   "nbconvert_exporter": "python",
   "pygments_lexer": "ipython3",
   "version": "3.7.1"
  }
 },
 "nbformat": 4,
 "nbformat_minor": 2
}
